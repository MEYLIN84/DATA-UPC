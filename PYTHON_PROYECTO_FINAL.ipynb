{
  "nbformat": 4,
  "nbformat_minor": 0,
  "metadata": {
    "colab": {
      "name": "PYTHON PROYECTO FINAL.ipynb",
      "provenance": [],
      "collapsed_sections": [],
      "authorship_tag": "ABX9TyOCYtNiphZ+V/b+OWCRVl2L",
      "include_colab_link": true
    },
    "kernelspec": {
      "name": "python3",
      "display_name": "Python 3"
    },
    "language_info": {
      "name": "python"
    }
  },
  "cells": [
    {
      "cell_type": "markdown",
      "metadata": {
        "id": "view-in-github",
        "colab_type": "text"
      },
      "source": [
        "<a href=\"https://colab.research.google.com/github/MEYLIN84/DATA-UPC/blob/main/PYTHON_PROYECTO_FINAL.ipynb\" target=\"_parent\"><img src=\"https://colab.research.google.com/assets/colab-badge.svg\" alt=\"Open In Colab\"/></a>"
      ]
    },
    {
      "cell_type": "markdown",
      "source": [
        "1.- INTRODUCCIÓN\n",
        "Las principales ciudades turísticas de Francia son Londres y París, son ciudades muy concurridas y populares para vacaciones. Su cultura diversa y ofrecen una amplia variedad de experiencias muy buscadas. Intentamos agrupar los barrios de Londres y París respectivamente y obtener información sobre cómo se ven ahora."
      ],
      "metadata": {
        "id": "paO7V-p5Yd6g"
      }
    },
    {
      "cell_type": "markdown",
      "source": [
        "2.- EL PROBLEMA El objetivo es ayudar a los turistas a elegir sus destinos en función de las experiencias que los barrios tienen para ofrecer y lo que les gustaría tener. Esto también ayuda a las personas a tomar decisiones si están pensando en migrar a Londres o París o incluso si quieren reubicar barrios dentro de la ciudad. Nuestros hallazgos ayudarán a las partes interesadas a tomar decisiones informadas y abordar cualquier inquietud que tengan, incluidos los diferentes tipos de cocinas, tiendas de provisiones y lo que la ciudad tiene para ofrecer.\n"
      ],
      "metadata": {
        "id": "2kpgWDBNZHwC"
      }
    },
    {
      "cell_type": "markdown",
      "source": [
        "3.- DESCRIPCIÓN DE LA DATA Requerimos datos de ubicación geográfica tanto para Londres como para París. Los códigos postales de cada ciudad sirven como punto de partida. Usando los códigos postales que usamos podemos encontrar los vecindarios, distritos, lugares y sus categorías de lugares más populares."
      ],
      "metadata": {
        "id": "deDsFlASZX3L"
      }
    },
    {
      "cell_type": "markdown",
      "source": [
        "3.1.- LONDRES Para derivar nuestra solución, extraemos nuestros datos de https://en.wikipedia.org/wiki/List_of_areas_of_London Esta página de wikipedia tiene información sobre todos los barrios, nos limitamos a Londres.\n",
        "Municipio : Nombre del Barrio\n",
        "ciudad : Nombre del municipio\n",
        "post_code : Códigos postales de Londres.\n",
        "Esta página de wikipedia carece de información sobre las ubicaciones geográficas. Para solucionar este problema utilizamos la API de ArcGIS"
      ],
      "metadata": {
        "id": "pHLJ2NHjZhww"
      }
    },
    {
      "cell_type": "markdown",
      "source": [
        "3.2.- ArcGIS API.- ArcGIS Online le permite conectar personas, ubicaciones y datos mediante mapas interactivos. Trabaje con estilos inteligentes basados ​​en datos y herramientas de análisis intuitivas que brindan inteligencia de ubicación. Comparta sus conocimientos con el mundo o con grupos específicos.\n",
        "\n",
        "Más específicamente, usamos ArcGIS para obtener las ubicaciones geográficas de los barrios de Londres. Las siguientes columnas se agregan a nuestro conjunto de datos inicial que prepara nuestros datos.\n",
        "\n",
        "latitude : Latitud para el vecindario\n",
        "longitude : Longitud del vecindario"
      ],
      "metadata": {
        "id": "eFkLeMZNZsdi"
      }
    },
    {
      "cell_type": "markdown",
      "source": [
        "3.3.- PARIS Para derivar nuestra solución, aprovechamos los datos JSON disponibles en https://www.data.gouv.fr/fr/datasets/r/e88c6fda-1d09-42a0-a069-606d3259114e El archivo JSON tiene datos sobre todos los barrios de Francia, lo limitamos a París.\n",
        "\n",
        "postal_code : Códigos postales de Francia\n",
        "nom_comm : Nombre de los barrios de Francia\n",
        "nom_dept : Nombre de los distritos, equivalente a ciudades en Francia\n",
        "geo_point_2d : Tupla que contiene la latitud y longitud de los Barrios."
      ],
      "metadata": {
        "id": "oCba7bbxZ8V8"
      }
    },
    {
      "cell_type": "markdown",
      "source": [
        "3.4.- FOURSQUARE API DATA Necesitaremos datos sobre diferentes lugares en diferentes vecindarios de ese distrito específico. Para obtener esa información, utilizaremos la información de ubicación de \"Foursquare\". Foursquare es un proveedor de datos de ubicación con información sobre todo tipo de lugares y eventos dentro de un área de interés. Dicha información incluye nombres de lugares, ubicaciones, menús e incluso fotos. Como tal, la plataforma de ubicación de Foursquare se utilizará como la única fuente de datos, ya que toda la información requerida se puede obtener a través de la API.\n",
        "Después de encontrar la lista de vecindarios, nos conectamos a la API de Foursquare para recopilar información sobre los lugares dentro de todos y cada uno de los vecindarios. Para cada barrio, hemos elegido que el radio sea de 500 metros. Los datos recuperados de Foursquare contenían información de lugares dentro de una distancia específica de la longitud y latitud de los códigos postales. La información obtenida por sede es la siguiente:\n",
        "Barrio : Nombre del Barrio\n",
        "Latitud del vecindario: Latitud del vecindario\n",
        "Longitud del vecindario: Longitud del vecindario\n",
        "Lugar: Nombre del lugar\n",
        "Latitud del lugar: Latitud del lugar\n",
        "Longitud del lugar: Longitud del lugar\n",
        "Categoría del lugar: Categoría del lugar\n",
        "Según toda la información recopilada tanto para Londres como para París, tenemos datos suficientes para construir nuestro modelo. Agrupamos los vecindarios en función de categorías de lugares similares. Luego presentamos nuestras observaciones y hallazgos. Con estos datos, nuestros grupos de interés pueden tomar la decisión necesaria."
      ],
      "metadata": {
        "id": "MQPIMOCmaN80"
      }
    },
    {
      "cell_type": "markdown",
      "source": [
        "4.- METODOLOGÍA"
      ],
      "metadata": {
        "id": "OJcocUa7alAO"
      }
    },
    {
      "cell_type": "code",
      "source": [
        "import pandas as pd\n",
        "import requests\n",
        "import numpy as np\n",
        "import matplotlib.cm as cm\n",
        "import matplotlib.colors as colors\n",
        "import folium\n",
        "from sklearn.cluster import KMeans"
      ],
      "metadata": {
        "id": "g6B7rtFkZru8"
      },
      "execution_count": 1,
      "outputs": []
    },
    {
      "cell_type": "markdown",
      "source": [
        "4.1.- ANALIZANDO LA DATA"
      ],
      "metadata": {
        "id": "XZHZJwTHaxlN"
      }
    },
    {
      "cell_type": "code",
      "source": [
        "url_london = \"https://en.wikipedia.org/wiki/List_of_areas_of_London\"\n",
        "wiki_london_url = requests.get(url_london)\n",
        "wiki_london_data = pd.read_html(wiki_london_url.text)\n",
        "wiki_london_data = wiki_london_data[1]\n",
        "wiki_london_data"
      ],
      "metadata": {
        "colab": {
          "base_uri": "https://localhost:8080/",
          "height": 423
        },
        "id": "9qcDEpURa1dV",
        "outputId": "8f0b6633-23f5-41f2-c48c-d35a90e66f0e"
      },
      "execution_count": 2,
      "outputs": [
        {
          "output_type": "execute_result",
          "data": {
            "text/plain": [
              "            Location                     London borough       Post town  \\\n",
              "0         Abbey Wood              Bexley, Greenwich [7]          LONDON   \n",
              "1              Acton  Ealing, Hammersmith and Fulham[8]          LONDON   \n",
              "2          Addington                         Croydon[8]         CROYDON   \n",
              "3         Addiscombe                         Croydon[8]         CROYDON   \n",
              "4        Albany Park                             Bexley  BEXLEY, SIDCUP   \n",
              "..               ...                                ...             ...   \n",
              "527         Woolwich                          Greenwich          LONDON   \n",
              "528   Worcester Park       Sutton, Kingston upon Thames  WORCESTER PARK   \n",
              "529  Wormwood Scrubs             Hammersmith and Fulham          LONDON   \n",
              "530          Yeading                         Hillingdon           HAYES   \n",
              "531         Yiewsley                         Hillingdon    WEST DRAYTON   \n",
              "\n",
              "    Postcode district Dial code OS grid ref  \n",
              "0                 SE2       020    TQ465785  \n",
              "1              W3, W4       020    TQ205805  \n",
              "2                 CR0       020    TQ375645  \n",
              "3                 CR0       020    TQ345665  \n",
              "4           DA5, DA14       020    TQ478728  \n",
              "..                ...       ...         ...  \n",
              "527              SE18       020    TQ435795  \n",
              "528               KT4       020    TQ225655  \n",
              "529               W12       020    TQ225815  \n",
              "530               UB4       020    TQ115825  \n",
              "531               UB7       020    TQ063804  \n",
              "\n",
              "[532 rows x 6 columns]"
            ],
            "text/html": [
              "\n",
              "  <div id=\"df-e1e3a5cb-f576-4cdc-b5d3-06fbd060ad1c\">\n",
              "    <div class=\"colab-df-container\">\n",
              "      <div>\n",
              "<style scoped>\n",
              "    .dataframe tbody tr th:only-of-type {\n",
              "        vertical-align: middle;\n",
              "    }\n",
              "\n",
              "    .dataframe tbody tr th {\n",
              "        vertical-align: top;\n",
              "    }\n",
              "\n",
              "    .dataframe thead th {\n",
              "        text-align: right;\n",
              "    }\n",
              "</style>\n",
              "<table border=\"1\" class=\"dataframe\">\n",
              "  <thead>\n",
              "    <tr style=\"text-align: right;\">\n",
              "      <th></th>\n",
              "      <th>Location</th>\n",
              "      <th>London borough</th>\n",
              "      <th>Post town</th>\n",
              "      <th>Postcode district</th>\n",
              "      <th>Dial code</th>\n",
              "      <th>OS grid ref</th>\n",
              "    </tr>\n",
              "  </thead>\n",
              "  <tbody>\n",
              "    <tr>\n",
              "      <th>0</th>\n",
              "      <td>Abbey Wood</td>\n",
              "      <td>Bexley, Greenwich [7]</td>\n",
              "      <td>LONDON</td>\n",
              "      <td>SE2</td>\n",
              "      <td>020</td>\n",
              "      <td>TQ465785</td>\n",
              "    </tr>\n",
              "    <tr>\n",
              "      <th>1</th>\n",
              "      <td>Acton</td>\n",
              "      <td>Ealing, Hammersmith and Fulham[8]</td>\n",
              "      <td>LONDON</td>\n",
              "      <td>W3, W4</td>\n",
              "      <td>020</td>\n",
              "      <td>TQ205805</td>\n",
              "    </tr>\n",
              "    <tr>\n",
              "      <th>2</th>\n",
              "      <td>Addington</td>\n",
              "      <td>Croydon[8]</td>\n",
              "      <td>CROYDON</td>\n",
              "      <td>CR0</td>\n",
              "      <td>020</td>\n",
              "      <td>TQ375645</td>\n",
              "    </tr>\n",
              "    <tr>\n",
              "      <th>3</th>\n",
              "      <td>Addiscombe</td>\n",
              "      <td>Croydon[8]</td>\n",
              "      <td>CROYDON</td>\n",
              "      <td>CR0</td>\n",
              "      <td>020</td>\n",
              "      <td>TQ345665</td>\n",
              "    </tr>\n",
              "    <tr>\n",
              "      <th>4</th>\n",
              "      <td>Albany Park</td>\n",
              "      <td>Bexley</td>\n",
              "      <td>BEXLEY, SIDCUP</td>\n",
              "      <td>DA5, DA14</td>\n",
              "      <td>020</td>\n",
              "      <td>TQ478728</td>\n",
              "    </tr>\n",
              "    <tr>\n",
              "      <th>...</th>\n",
              "      <td>...</td>\n",
              "      <td>...</td>\n",
              "      <td>...</td>\n",
              "      <td>...</td>\n",
              "      <td>...</td>\n",
              "      <td>...</td>\n",
              "    </tr>\n",
              "    <tr>\n",
              "      <th>527</th>\n",
              "      <td>Woolwich</td>\n",
              "      <td>Greenwich</td>\n",
              "      <td>LONDON</td>\n",
              "      <td>SE18</td>\n",
              "      <td>020</td>\n",
              "      <td>TQ435795</td>\n",
              "    </tr>\n",
              "    <tr>\n",
              "      <th>528</th>\n",
              "      <td>Worcester Park</td>\n",
              "      <td>Sutton, Kingston upon Thames</td>\n",
              "      <td>WORCESTER PARK</td>\n",
              "      <td>KT4</td>\n",
              "      <td>020</td>\n",
              "      <td>TQ225655</td>\n",
              "    </tr>\n",
              "    <tr>\n",
              "      <th>529</th>\n",
              "      <td>Wormwood Scrubs</td>\n",
              "      <td>Hammersmith and Fulham</td>\n",
              "      <td>LONDON</td>\n",
              "      <td>W12</td>\n",
              "      <td>020</td>\n",
              "      <td>TQ225815</td>\n",
              "    </tr>\n",
              "    <tr>\n",
              "      <th>530</th>\n",
              "      <td>Yeading</td>\n",
              "      <td>Hillingdon</td>\n",
              "      <td>HAYES</td>\n",
              "      <td>UB4</td>\n",
              "      <td>020</td>\n",
              "      <td>TQ115825</td>\n",
              "    </tr>\n",
              "    <tr>\n",
              "      <th>531</th>\n",
              "      <td>Yiewsley</td>\n",
              "      <td>Hillingdon</td>\n",
              "      <td>WEST DRAYTON</td>\n",
              "      <td>UB7</td>\n",
              "      <td>020</td>\n",
              "      <td>TQ063804</td>\n",
              "    </tr>\n",
              "  </tbody>\n",
              "</table>\n",
              "<p>532 rows × 6 columns</p>\n",
              "</div>\n",
              "      <button class=\"colab-df-convert\" onclick=\"convertToInteractive('df-e1e3a5cb-f576-4cdc-b5d3-06fbd060ad1c')\"\n",
              "              title=\"Convert this dataframe to an interactive table.\"\n",
              "              style=\"display:none;\">\n",
              "        \n",
              "  <svg xmlns=\"http://www.w3.org/2000/svg\" height=\"24px\"viewBox=\"0 0 24 24\"\n",
              "       width=\"24px\">\n",
              "    <path d=\"M0 0h24v24H0V0z\" fill=\"none\"/>\n",
              "    <path d=\"M18.56 5.44l.94 2.06.94-2.06 2.06-.94-2.06-.94-.94-2.06-.94 2.06-2.06.94zm-11 1L8.5 8.5l.94-2.06 2.06-.94-2.06-.94L8.5 2.5l-.94 2.06-2.06.94zm10 10l.94 2.06.94-2.06 2.06-.94-2.06-.94-.94-2.06-.94 2.06-2.06.94z\"/><path d=\"M17.41 7.96l-1.37-1.37c-.4-.4-.92-.59-1.43-.59-.52 0-1.04.2-1.43.59L10.3 9.45l-7.72 7.72c-.78.78-.78 2.05 0 2.83L4 21.41c.39.39.9.59 1.41.59.51 0 1.02-.2 1.41-.59l7.78-7.78 2.81-2.81c.8-.78.8-2.07 0-2.86zM5.41 20L4 18.59l7.72-7.72 1.47 1.35L5.41 20z\"/>\n",
              "  </svg>\n",
              "      </button>\n",
              "      \n",
              "  <style>\n",
              "    .colab-df-container {\n",
              "      display:flex;\n",
              "      flex-wrap:wrap;\n",
              "      gap: 12px;\n",
              "    }\n",
              "\n",
              "    .colab-df-convert {\n",
              "      background-color: #E8F0FE;\n",
              "      border: none;\n",
              "      border-radius: 50%;\n",
              "      cursor: pointer;\n",
              "      display: none;\n",
              "      fill: #1967D2;\n",
              "      height: 32px;\n",
              "      padding: 0 0 0 0;\n",
              "      width: 32px;\n",
              "    }\n",
              "\n",
              "    .colab-df-convert:hover {\n",
              "      background-color: #E2EBFA;\n",
              "      box-shadow: 0px 1px 2px rgba(60, 64, 67, 0.3), 0px 1px 3px 1px rgba(60, 64, 67, 0.15);\n",
              "      fill: #174EA6;\n",
              "    }\n",
              "\n",
              "    [theme=dark] .colab-df-convert {\n",
              "      background-color: #3B4455;\n",
              "      fill: #D2E3FC;\n",
              "    }\n",
              "\n",
              "    [theme=dark] .colab-df-convert:hover {\n",
              "      background-color: #434B5C;\n",
              "      box-shadow: 0px 1px 3px 1px rgba(0, 0, 0, 0.15);\n",
              "      filter: drop-shadow(0px 1px 2px rgba(0, 0, 0, 0.3));\n",
              "      fill: #FFFFFF;\n",
              "    }\n",
              "  </style>\n",
              "\n",
              "      <script>\n",
              "        const buttonEl =\n",
              "          document.querySelector('#df-e1e3a5cb-f576-4cdc-b5d3-06fbd060ad1c button.colab-df-convert');\n",
              "        buttonEl.style.display =\n",
              "          google.colab.kernel.accessAllowed ? 'block' : 'none';\n",
              "\n",
              "        async function convertToInteractive(key) {\n",
              "          const element = document.querySelector('#df-e1e3a5cb-f576-4cdc-b5d3-06fbd060ad1c');\n",
              "          const dataTable =\n",
              "            await google.colab.kernel.invokeFunction('convertToInteractive',\n",
              "                                                     [key], {});\n",
              "          if (!dataTable) return;\n",
              "\n",
              "          const docLinkHtml = 'Like what you see? Visit the ' +\n",
              "            '<a target=\"_blank\" href=https://colab.research.google.com/notebooks/data_table.ipynb>data table notebook</a>'\n",
              "            + ' to learn more about interactive tables.';\n",
              "          element.innerHTML = '';\n",
              "          dataTable['output_type'] = 'display_data';\n",
              "          await google.colab.output.renderOutput(dataTable, element);\n",
              "          const docLink = document.createElement('div');\n",
              "          docLink.innerHTML = docLinkHtml;\n",
              "          element.appendChild(docLink);\n",
              "        }\n",
              "      </script>\n",
              "    </div>\n",
              "  </div>\n",
              "  "
            ]
          },
          "metadata": {},
          "execution_count": 2
        }
      ]
    },
    {
      "cell_type": "code",
      "source": [
        "!wget -q -O 'france-data.json' https://data.iledefrance.fr/explore/dataset/base-officielle-des-codes-postaux/download/?format=json&timezone=America/Bogota&lang=fr\n",
        "print(\"Data Downloaded!\")\n",
        "paris_raw = pd.read_json(data)\n",
        "paris_raw.head()\n"
      ],
      "metadata": {
        "colab": {
          "base_uri": "https://localhost:8080/",
          "height": 269
        },
        "id": "qbv5VVy8a6va",
        "outputId": "85679257-543d-43f4-c3d9-5afb0071a883"
      },
      "execution_count": 10,
      "outputs": [
        {
          "output_type": "stream",
          "name": "stdout",
          "text": [
            "Data Downloaded!\n"
          ]
        },
        {
          "output_type": "execute_result",
          "data": {
            "text/plain": [
              "                           datasetid  \\\n",
              "0  base-officielle-des-codes-postaux   \n",
              "1  base-officielle-des-codes-postaux   \n",
              "2  base-officielle-des-codes-postaux   \n",
              "3  base-officielle-des-codes-postaux   \n",
              "4  base-officielle-des-codes-postaux   \n",
              "\n",
              "                                   recordid  \\\n",
              "0  7232561e7cdbaadfd19686307de99c7983b578bd   \n",
              "1  99f8e63ce450eccd6dd0d36b6f62ecfa78b0c1f7   \n",
              "2  e6564a927f7fbc1c55d38179899ac5272c0eb3d3   \n",
              "3  97451499e7a2e635754d0f4e91756474bd411df1   \n",
              "4  5c4d859bba162696dfad0c6348534fb9c39e53be   \n",
              "\n",
              "                                              fields  \\\n",
              "0  {'dep': '77', 'nom_commune': 'CHEVRY COSSIGNY'...   \n",
              "1  {'dep': '77', 'nom_commune': 'DAMMARTIN SUR TI...   \n",
              "2  {'dep': '77', 'nom_commune': 'NOISY RUDIGNON',...   \n",
              "3  {'dep': '77', 'nom_commune': 'ORLY SUR MORIN',...   \n",
              "4  {'dep': '77', 'nom_commune': 'OTHIS', 'code_po...   \n",
              "\n",
              "                                            geometry          record_timestamp  \n",
              "0  {'type': 'Point', 'coordinates': [2.6765377, 4...  2022-06-22T13:28:56.668Z  \n",
              "1  {'type': 'Point', 'coordinates': [2.903759408,...  2022-06-22T13:28:56.668Z  \n",
              "2  {'type': 'Point', 'coordinates': [2.933839851,...  2022-06-22T13:28:56.668Z  \n",
              "3  {'type': 'Point', 'coordinates': [3.226766301,...  2022-06-22T13:28:56.668Z  \n",
              "4  {'type': 'Point', 'coordinates': [2.655019992,...  2022-06-22T13:28:56.668Z  "
            ],
            "text/html": [
              "\n",
              "  <div id=\"df-9d7f0ecc-5152-461b-9465-1d9129e0ca71\">\n",
              "    <div class=\"colab-df-container\">\n",
              "      <div>\n",
              "<style scoped>\n",
              "    .dataframe tbody tr th:only-of-type {\n",
              "        vertical-align: middle;\n",
              "    }\n",
              "\n",
              "    .dataframe tbody tr th {\n",
              "        vertical-align: top;\n",
              "    }\n",
              "\n",
              "    .dataframe thead th {\n",
              "        text-align: right;\n",
              "    }\n",
              "</style>\n",
              "<table border=\"1\" class=\"dataframe\">\n",
              "  <thead>\n",
              "    <tr style=\"text-align: right;\">\n",
              "      <th></th>\n",
              "      <th>datasetid</th>\n",
              "      <th>recordid</th>\n",
              "      <th>fields</th>\n",
              "      <th>geometry</th>\n",
              "      <th>record_timestamp</th>\n",
              "    </tr>\n",
              "  </thead>\n",
              "  <tbody>\n",
              "    <tr>\n",
              "      <th>0</th>\n",
              "      <td>base-officielle-des-codes-postaux</td>\n",
              "      <td>7232561e7cdbaadfd19686307de99c7983b578bd</td>\n",
              "      <td>{'dep': '77', 'nom_commune': 'CHEVRY COSSIGNY'...</td>\n",
              "      <td>{'type': 'Point', 'coordinates': [2.6765377, 4...</td>\n",
              "      <td>2022-06-22T13:28:56.668Z</td>\n",
              "    </tr>\n",
              "    <tr>\n",
              "      <th>1</th>\n",
              "      <td>base-officielle-des-codes-postaux</td>\n",
              "      <td>99f8e63ce450eccd6dd0d36b6f62ecfa78b0c1f7</td>\n",
              "      <td>{'dep': '77', 'nom_commune': 'DAMMARTIN SUR TI...</td>\n",
              "      <td>{'type': 'Point', 'coordinates': [2.903759408,...</td>\n",
              "      <td>2022-06-22T13:28:56.668Z</td>\n",
              "    </tr>\n",
              "    <tr>\n",
              "      <th>2</th>\n",
              "      <td>base-officielle-des-codes-postaux</td>\n",
              "      <td>e6564a927f7fbc1c55d38179899ac5272c0eb3d3</td>\n",
              "      <td>{'dep': '77', 'nom_commune': 'NOISY RUDIGNON',...</td>\n",
              "      <td>{'type': 'Point', 'coordinates': [2.933839851,...</td>\n",
              "      <td>2022-06-22T13:28:56.668Z</td>\n",
              "    </tr>\n",
              "    <tr>\n",
              "      <th>3</th>\n",
              "      <td>base-officielle-des-codes-postaux</td>\n",
              "      <td>97451499e7a2e635754d0f4e91756474bd411df1</td>\n",
              "      <td>{'dep': '77', 'nom_commune': 'ORLY SUR MORIN',...</td>\n",
              "      <td>{'type': 'Point', 'coordinates': [3.226766301,...</td>\n",
              "      <td>2022-06-22T13:28:56.668Z</td>\n",
              "    </tr>\n",
              "    <tr>\n",
              "      <th>4</th>\n",
              "      <td>base-officielle-des-codes-postaux</td>\n",
              "      <td>5c4d859bba162696dfad0c6348534fb9c39e53be</td>\n",
              "      <td>{'dep': '77', 'nom_commune': 'OTHIS', 'code_po...</td>\n",
              "      <td>{'type': 'Point', 'coordinates': [2.655019992,...</td>\n",
              "      <td>2022-06-22T13:28:56.668Z</td>\n",
              "    </tr>\n",
              "  </tbody>\n",
              "</table>\n",
              "</div>\n",
              "      <button class=\"colab-df-convert\" onclick=\"convertToInteractive('df-9d7f0ecc-5152-461b-9465-1d9129e0ca71')\"\n",
              "              title=\"Convert this dataframe to an interactive table.\"\n",
              "              style=\"display:none;\">\n",
              "        \n",
              "  <svg xmlns=\"http://www.w3.org/2000/svg\" height=\"24px\"viewBox=\"0 0 24 24\"\n",
              "       width=\"24px\">\n",
              "    <path d=\"M0 0h24v24H0V0z\" fill=\"none\"/>\n",
              "    <path d=\"M18.56 5.44l.94 2.06.94-2.06 2.06-.94-2.06-.94-.94-2.06-.94 2.06-2.06.94zm-11 1L8.5 8.5l.94-2.06 2.06-.94-2.06-.94L8.5 2.5l-.94 2.06-2.06.94zm10 10l.94 2.06.94-2.06 2.06-.94-2.06-.94-.94-2.06-.94 2.06-2.06.94z\"/><path d=\"M17.41 7.96l-1.37-1.37c-.4-.4-.92-.59-1.43-.59-.52 0-1.04.2-1.43.59L10.3 9.45l-7.72 7.72c-.78.78-.78 2.05 0 2.83L4 21.41c.39.39.9.59 1.41.59.51 0 1.02-.2 1.41-.59l7.78-7.78 2.81-2.81c.8-.78.8-2.07 0-2.86zM5.41 20L4 18.59l7.72-7.72 1.47 1.35L5.41 20z\"/>\n",
              "  </svg>\n",
              "      </button>\n",
              "      \n",
              "  <style>\n",
              "    .colab-df-container {\n",
              "      display:flex;\n",
              "      flex-wrap:wrap;\n",
              "      gap: 12px;\n",
              "    }\n",
              "\n",
              "    .colab-df-convert {\n",
              "      background-color: #E8F0FE;\n",
              "      border: none;\n",
              "      border-radius: 50%;\n",
              "      cursor: pointer;\n",
              "      display: none;\n",
              "      fill: #1967D2;\n",
              "      height: 32px;\n",
              "      padding: 0 0 0 0;\n",
              "      width: 32px;\n",
              "    }\n",
              "\n",
              "    .colab-df-convert:hover {\n",
              "      background-color: #E2EBFA;\n",
              "      box-shadow: 0px 1px 2px rgba(60, 64, 67, 0.3), 0px 1px 3px 1px rgba(60, 64, 67, 0.15);\n",
              "      fill: #174EA6;\n",
              "    }\n",
              "\n",
              "    [theme=dark] .colab-df-convert {\n",
              "      background-color: #3B4455;\n",
              "      fill: #D2E3FC;\n",
              "    }\n",
              "\n",
              "    [theme=dark] .colab-df-convert:hover {\n",
              "      background-color: #434B5C;\n",
              "      box-shadow: 0px 1px 3px 1px rgba(0, 0, 0, 0.15);\n",
              "      filter: drop-shadow(0px 1px 2px rgba(0, 0, 0, 0.3));\n",
              "      fill: #FFFFFF;\n",
              "    }\n",
              "  </style>\n",
              "\n",
              "      <script>\n",
              "        const buttonEl =\n",
              "          document.querySelector('#df-9d7f0ecc-5152-461b-9465-1d9129e0ca71 button.colab-df-convert');\n",
              "        buttonEl.style.display =\n",
              "          google.colab.kernel.accessAllowed ? 'block' : 'none';\n",
              "\n",
              "        async function convertToInteractive(key) {\n",
              "          const element = document.querySelector('#df-9d7f0ecc-5152-461b-9465-1d9129e0ca71');\n",
              "          const dataTable =\n",
              "            await google.colab.kernel.invokeFunction('convertToInteractive',\n",
              "                                                     [key], {});\n",
              "          if (!dataTable) return;\n",
              "\n",
              "          const docLinkHtml = 'Like what you see? Visit the ' +\n",
              "            '<a target=\"_blank\" href=https://colab.research.google.com/notebooks/data_table.ipynb>data table notebook</a>'\n",
              "            + ' to learn more about interactive tables.';\n",
              "          element.innerHTML = '';\n",
              "          dataTable['output_type'] = 'display_data';\n",
              "          await google.colab.output.renderOutput(dataTable, element);\n",
              "          const docLink = document.createElement('div');\n",
              "          docLink.innerHTML = docLinkHtml;\n",
              "          element.appendChild(docLink);\n",
              "        }\n",
              "      </script>\n",
              "    </div>\n",
              "  </div>\n",
              "  "
            ]
          },
          "metadata": {},
          "execution_count": 10
        }
      ]
    },
    {
      "cell_type": "markdown",
      "source": [
        "4.2 PROCESAMIENTO DE DATA"
      ],
      "metadata": {
        "id": "C97JxworZA09"
      }
    },
    {
      "cell_type": "markdown",
      "source": [
        "En el caso de Londres, sustituimos los espacios por guiones bajos en el título. "
      ],
      "metadata": {
        "id": "YGd0suZWe-DE"
      }
    },
    {
      "cell_type": "code",
      "execution_count": 22,
      "metadata": {
        "id": "77v_NbCEYVHs"
      },
      "outputs": [],
      "source": [
        "wiki_london_data.rename(columns=lambda x: x.strip().replace(\" \", \"_\"), inplace=True)\n"
      ]
    },
    {
      "cell_type": "markdown",
      "source": [
        "Para París, desglosamos cada uno de los campos anidados y creamos el marco de datos que necesitamos:"
      ],
      "metadata": {
        "id": "lXYd4gLbguHB"
      }
    },
    {
      "cell_type": "code",
      "source": [
        "paris_field_data = pd.DataFrame()\n",
        "for f in paris_raw.fields:\n",
        "    dict_new = f\n",
        "    paris_field_data = paris_field_data.append(dict_new, ignore_index=True)\n",
        "\n",
        "paris_field_data.head()"
      ],
      "metadata": {
        "colab": {
          "base_uri": "https://localhost:8080/",
          "height": 206
        },
        "id": "LUS69Ec4gwKA",
        "outputId": "0bb7fe85-a4ea-40c6-8321-584b7758a092"
      },
      "execution_count": 23,
      "outputs": [
        {
          "output_type": "execute_result",
          "data": {
            "text/plain": [
              "  dep            nom_commune  code_postal              coordonnees_gps  \\\n",
              "0  77        CHEVRY COSSIGNY      77173.0    [48.723292532, 2.6765377]   \n",
              "1  77  DAMMARTIN SUR TIGEAUX      77163.0  [48.808512927, 2.903759408]   \n",
              "2  77         NOISY RUDIGNON      77940.0  [48.336585873, 2.933839851]   \n",
              "3  77         ORLY SUR MORIN      77750.0  [48.901173218, 3.226766301]   \n",
              "4  77                  OTHIS      77280.0    [49.0826633, 2.655019992]   \n",
              "\n",
              "  libelle_d_acheminement code_commune_insee   ligne_5  \n",
              "0        CHEVRY COSSIGNY              77114  COSSIGNY  \n",
              "1  DAMMARTIN SUR TIGEAUX              77154       NaN  \n",
              "2         NOISY RUDIGNON              77338       NaN  \n",
              "3         ORLY SUR MORIN              77345       NaN  \n",
              "4                  OTHIS              77349       NaN  "
            ],
            "text/html": [
              "\n",
              "  <div id=\"df-c735471b-53b2-44dd-8f4c-49a604e8459e\">\n",
              "    <div class=\"colab-df-container\">\n",
              "      <div>\n",
              "<style scoped>\n",
              "    .dataframe tbody tr th:only-of-type {\n",
              "        vertical-align: middle;\n",
              "    }\n",
              "\n",
              "    .dataframe tbody tr th {\n",
              "        vertical-align: top;\n",
              "    }\n",
              "\n",
              "    .dataframe thead th {\n",
              "        text-align: right;\n",
              "    }\n",
              "</style>\n",
              "<table border=\"1\" class=\"dataframe\">\n",
              "  <thead>\n",
              "    <tr style=\"text-align: right;\">\n",
              "      <th></th>\n",
              "      <th>dep</th>\n",
              "      <th>nom_commune</th>\n",
              "      <th>code_postal</th>\n",
              "      <th>coordonnees_gps</th>\n",
              "      <th>libelle_d_acheminement</th>\n",
              "      <th>code_commune_insee</th>\n",
              "      <th>ligne_5</th>\n",
              "    </tr>\n",
              "  </thead>\n",
              "  <tbody>\n",
              "    <tr>\n",
              "      <th>0</th>\n",
              "      <td>77</td>\n",
              "      <td>CHEVRY COSSIGNY</td>\n",
              "      <td>77173.0</td>\n",
              "      <td>[48.723292532, 2.6765377]</td>\n",
              "      <td>CHEVRY COSSIGNY</td>\n",
              "      <td>77114</td>\n",
              "      <td>COSSIGNY</td>\n",
              "    </tr>\n",
              "    <tr>\n",
              "      <th>1</th>\n",
              "      <td>77</td>\n",
              "      <td>DAMMARTIN SUR TIGEAUX</td>\n",
              "      <td>77163.0</td>\n",
              "      <td>[48.808512927, 2.903759408]</td>\n",
              "      <td>DAMMARTIN SUR TIGEAUX</td>\n",
              "      <td>77154</td>\n",
              "      <td>NaN</td>\n",
              "    </tr>\n",
              "    <tr>\n",
              "      <th>2</th>\n",
              "      <td>77</td>\n",
              "      <td>NOISY RUDIGNON</td>\n",
              "      <td>77940.0</td>\n",
              "      <td>[48.336585873, 2.933839851]</td>\n",
              "      <td>NOISY RUDIGNON</td>\n",
              "      <td>77338</td>\n",
              "      <td>NaN</td>\n",
              "    </tr>\n",
              "    <tr>\n",
              "      <th>3</th>\n",
              "      <td>77</td>\n",
              "      <td>ORLY SUR MORIN</td>\n",
              "      <td>77750.0</td>\n",
              "      <td>[48.901173218, 3.226766301]</td>\n",
              "      <td>ORLY SUR MORIN</td>\n",
              "      <td>77345</td>\n",
              "      <td>NaN</td>\n",
              "    </tr>\n",
              "    <tr>\n",
              "      <th>4</th>\n",
              "      <td>77</td>\n",
              "      <td>OTHIS</td>\n",
              "      <td>77280.0</td>\n",
              "      <td>[49.0826633, 2.655019992]</td>\n",
              "      <td>OTHIS</td>\n",
              "      <td>77349</td>\n",
              "      <td>NaN</td>\n",
              "    </tr>\n",
              "  </tbody>\n",
              "</table>\n",
              "</div>\n",
              "      <button class=\"colab-df-convert\" onclick=\"convertToInteractive('df-c735471b-53b2-44dd-8f4c-49a604e8459e')\"\n",
              "              title=\"Convert this dataframe to an interactive table.\"\n",
              "              style=\"display:none;\">\n",
              "        \n",
              "  <svg xmlns=\"http://www.w3.org/2000/svg\" height=\"24px\"viewBox=\"0 0 24 24\"\n",
              "       width=\"24px\">\n",
              "    <path d=\"M0 0h24v24H0V0z\" fill=\"none\"/>\n",
              "    <path d=\"M18.56 5.44l.94 2.06.94-2.06 2.06-.94-2.06-.94-.94-2.06-.94 2.06-2.06.94zm-11 1L8.5 8.5l.94-2.06 2.06-.94-2.06-.94L8.5 2.5l-.94 2.06-2.06.94zm10 10l.94 2.06.94-2.06 2.06-.94-2.06-.94-.94-2.06-.94 2.06-2.06.94z\"/><path d=\"M17.41 7.96l-1.37-1.37c-.4-.4-.92-.59-1.43-.59-.52 0-1.04.2-1.43.59L10.3 9.45l-7.72 7.72c-.78.78-.78 2.05 0 2.83L4 21.41c.39.39.9.59 1.41.59.51 0 1.02-.2 1.41-.59l7.78-7.78 2.81-2.81c.8-.78.8-2.07 0-2.86zM5.41 20L4 18.59l7.72-7.72 1.47 1.35L5.41 20z\"/>\n",
              "  </svg>\n",
              "      </button>\n",
              "      \n",
              "  <style>\n",
              "    .colab-df-container {\n",
              "      display:flex;\n",
              "      flex-wrap:wrap;\n",
              "      gap: 12px;\n",
              "    }\n",
              "\n",
              "    .colab-df-convert {\n",
              "      background-color: #E8F0FE;\n",
              "      border: none;\n",
              "      border-radius: 50%;\n",
              "      cursor: pointer;\n",
              "      display: none;\n",
              "      fill: #1967D2;\n",
              "      height: 32px;\n",
              "      padding: 0 0 0 0;\n",
              "      width: 32px;\n",
              "    }\n",
              "\n",
              "    .colab-df-convert:hover {\n",
              "      background-color: #E2EBFA;\n",
              "      box-shadow: 0px 1px 2px rgba(60, 64, 67, 0.3), 0px 1px 3px 1px rgba(60, 64, 67, 0.15);\n",
              "      fill: #174EA6;\n",
              "    }\n",
              "\n",
              "    [theme=dark] .colab-df-convert {\n",
              "      background-color: #3B4455;\n",
              "      fill: #D2E3FC;\n",
              "    }\n",
              "\n",
              "    [theme=dark] .colab-df-convert:hover {\n",
              "      background-color: #434B5C;\n",
              "      box-shadow: 0px 1px 3px 1px rgba(0, 0, 0, 0.15);\n",
              "      filter: drop-shadow(0px 1px 2px rgba(0, 0, 0, 0.3));\n",
              "      fill: #FFFFFF;\n",
              "    }\n",
              "  </style>\n",
              "\n",
              "      <script>\n",
              "        const buttonEl =\n",
              "          document.querySelector('#df-c735471b-53b2-44dd-8f4c-49a604e8459e button.colab-df-convert');\n",
              "        buttonEl.style.display =\n",
              "          google.colab.kernel.accessAllowed ? 'block' : 'none';\n",
              "\n",
              "        async function convertToInteractive(key) {\n",
              "          const element = document.querySelector('#df-c735471b-53b2-44dd-8f4c-49a604e8459e');\n",
              "          const dataTable =\n",
              "            await google.colab.kernel.invokeFunction('convertToInteractive',\n",
              "                                                     [key], {});\n",
              "          if (!dataTable) return;\n",
              "\n",
              "          const docLinkHtml = 'Like what you see? Visit the ' +\n",
              "            '<a target=\"_blank\" href=https://colab.research.google.com/notebooks/data_table.ipynb>data table notebook</a>'\n",
              "            + ' to learn more about interactive tables.';\n",
              "          element.innerHTML = '';\n",
              "          dataTable['output_type'] = 'display_data';\n",
              "          await google.colab.output.renderOutput(dataTable, element);\n",
              "          const docLink = document.createElement('div');\n",
              "          docLink.innerHTML = docLinkHtml;\n",
              "          element.appendChild(docLink);\n",
              "        }\n",
              "      </script>\n",
              "    </div>\n",
              "  </div>\n",
              "  "
            ]
          },
          "metadata": {},
          "execution_count": 23
        }
      ]
    },
    {
      "cell_type": "markdown",
      "source": [
        "4.3 Selección de características"
      ],
      "metadata": {
        "id": "eHobwdl2hAUn"
      }
    },
    {
      "cell_type": "markdown",
      "source": [
        "Para nuestros dos conjuntos de datos, sólo necesitamos el municipio, el barrio, los códigos postales y las geolocalizaciones (latitud y longitud). Así que acabamos seleccionando las columnas que necesitamos:"
      ],
      "metadata": {
        "id": "JBUofYL_hGOi"
      }
    },
    {
      "cell_type": "code",
      "source": [
        "df1 = wiki_london_data.drop( [ wiki_london_data.columns[0], wiki_london_data.columns[4], wiki_london_data.columns[5] ], axis=1)"
      ],
      "metadata": {
        "id": "76xeij7RhFuZ"
      },
      "execution_count": 24,
      "outputs": []
    },
    {
      "cell_type": "code",
      "source": [
        "df_2 = paris_field_data[['code_postal','nom_commune','libelle_d_acheminement','coordonnees_gps']]"
      ],
      "metadata": {
        "id": "XPL46pCghFr_"
      },
      "execution_count": 26,
      "outputs": []
    }
  ]
}